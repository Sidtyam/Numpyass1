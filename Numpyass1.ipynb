{
 "cells": [
  {
   "cell_type": "code",
   "execution_count": 1,
   "metadata": {},
   "outputs": [],
   "source": [
    "import numpy as np"
   ]
  },
  {
   "cell_type": "code",
   "execution_count": null,
   "metadata": {},
   "outputs": [],
   "source": [
    "#1 Create a null vector of size 10 but the fifth value which is 1."
   ]
  },
  {
   "cell_type": "code",
   "execution_count": 45,
   "metadata": {},
   "outputs": [
    {
     "name": "stdout",
     "output_type": "stream",
     "text": [
      "[0. 0. 0. 0. 1. 0. 0. 0. 0. 0.]\n"
     ]
    }
   ],
   "source": [
    "Vec1 = np.zeros(10)\n",
    "Vec1[4] = 1\n",
    "print(Vec1)"
   ]
  },
  {
   "cell_type": "code",
   "execution_count": null,
   "metadata": {},
   "outputs": [],
   "source": [
    "# Q2Create a vector with values ranging from 10 to 49."
   ]
  },
  {
   "cell_type": "code",
   "execution_count": 47,
   "metadata": {},
   "outputs": [
    {
     "name": "stdout",
     "output_type": "stream",
     "text": [
      "[10 11 12 13 14 15 16 17 18 19 20 21 22 23 24 25 26 27 28 29 30 31 32 33\n",
      " 34 35 36 37 38 39 40 41 42 43 44 45 46 47 48 49]\n"
     ]
    }
   ],
   "source": [
    "vector2 = np.arange(10,50)\n",
    "print(vector2)"
   ]
  },
  {
   "cell_type": "code",
   "execution_count": null,
   "metadata": {},
   "outputs": [],
   "source": [
    "# Q3 Create a 3x3 matrix with values ranging from 0 to 8"
   ]
  },
  {
   "cell_type": "code",
   "execution_count": 52,
   "metadata": {},
   "outputs": [
    {
     "data": {
      "text/plain": [
       "array([[3, 1, 1],\n",
       "       [2, 5, 1],\n",
       "       [1, 0, 7]])"
      ]
     },
     "execution_count": 52,
     "metadata": {},
     "output_type": "execute_result"
    }
   ],
   "source": [
    "mat1 = np.random.randint(0,8,(3,3))\n",
    "mat1"
   ]
  },
  {
   "cell_type": "code",
   "execution_count": 54,
   "metadata": {},
   "outputs": [],
   "source": [
    "#4 Find indices of non-zero elements from [1,2,0,0,4,0]\n"
   ]
  },
  {
   "cell_type": "code",
   "execution_count": 56,
   "metadata": {},
   "outputs": [
    {
     "data": {
      "text/plain": [
       "(array([0, 1, 4], dtype=int64),)"
      ]
     },
     "execution_count": 56,
     "metadata": {},
     "output_type": "execute_result"
    }
   ],
   "source": [
    "x = np.nonzero([1,2,0,0,4,0])\n",
    "x"
   ]
  },
  {
   "cell_type": "code",
   "execution_count": null,
   "metadata": {},
   "outputs": [],
   "source": [
    "#5 Create a 10x10 array with random values and find the minimum and maximum values."
   ]
  },
  {
   "cell_type": "code",
   "execution_count": 77,
   "metadata": {},
   "outputs": [
    {
     "name": "stdout",
     "output_type": "stream",
     "text": [
      "[[-0.10301992 -0.94756594  0.78456709 -0.47888514  0.71601672  0.08219918\n",
      "  -2.04651999  0.90146752  0.74728562  0.91353114]\n",
      " [ 1.50642732  0.08922276  0.37339599 -0.8360846  -0.14864181 -0.74506596\n",
      "   1.30694806 -1.17335232  0.03957975  0.93178222]\n",
      " [ 0.66584153 -1.33149998 -0.19063308  0.04490831 -1.01920184 -2.17446932\n",
      "   0.08357195  0.05439464  1.99593663 -0.4761989 ]\n",
      " [-0.30395875  1.46331685 -0.80128896  1.39428694 -0.18404136 -2.07841167\n",
      "  -0.81424816  1.4847497   1.54063504 -0.67623329]\n",
      " [ 1.07986448 -1.24148402  0.06317297 -1.13845528 -0.1937689   0.76537057\n",
      "   1.38009259 -1.25068706  0.35870272 -0.79203498]\n",
      " [ 1.72812721  0.72092984  0.3226881  -0.05783498 -0.4454294  -0.75175827\n",
      "  -1.13716278  0.40136751  0.83383552  0.69517649]\n",
      " [ 0.85380677 -1.54428958  0.52052152 -0.12930442 -1.29950129  0.49255707\n",
      "  -0.01443448 -1.03753343 -1.39771626  0.0236852 ]\n",
      " [-0.06387651  1.41152479  1.26226346 -0.05103514  0.94025283  1.78128982\n",
      "  -0.80638492  2.06409483 -0.40101194 -1.5922882 ]\n",
      " [ 2.52505855 -0.44312167  1.14141873  0.53743032 -0.9040536   0.49396758\n",
      "  -1.56158941  0.49823247 -2.21707569  1.9073379 ]\n",
      " [ 0.32186494 -1.511046    1.01395994  2.12615825 -2.19114694 -0.80059351\n",
      "   1.05219197 -0.58590044  1.01531652  0.20741131]]\n",
      "maximum value 2.5250585488430324\n",
      "minimum value -2.2170756876630295\n"
     ]
    }
   ],
   "source": [
    "b = np.random.randn(10,10)\n",
    "print(b)\n",
    "print(\"maximum value\",np.max(b))\n",
    "print(\"minimum value\",np.min(b))"
   ]
  },
  {
   "cell_type": "code",
   "execution_count": 78,
   "metadata": {},
   "outputs": [],
   "source": [
    "#6 Create a random vector of size 30 and find the mean value."
   ]
  },
  {
   "cell_type": "code",
   "execution_count": 70,
   "metadata": {},
   "outputs": [
    {
     "name": "stdout",
     "output_type": "stream",
     "text": [
      "[0.59283793 0.3542203  0.09959397 0.13936373 0.99425904 0.729358\n",
      " 0.85639664 0.16728259 0.82295702 0.38635005 0.98684142 0.49495087\n",
      " 0.12274171 0.67816906 0.56002424 0.42957558 0.72504158 0.91911215\n",
      " 0.22246432 0.85579087 0.23354732 0.33745659 0.81684634 0.42004691\n",
      " 0.17441589 0.9145157  0.84037297 0.59934788 0.60587948 0.00222665]\n"
     ]
    },
    {
     "data": {
      "text/plain": [
       "0.5360662263182369"
      ]
     },
     "execution_count": 70,
     "metadata": {},
     "output_type": "execute_result"
    }
   ],
   "source": [
    "x = np.random.rand(30)\n",
    "print(x)\n",
    "x.mean()"
   ]
  }
 ],
 "metadata": {
  "kernelspec": {
   "display_name": "Python 3",
   "language": "python",
   "name": "python3"
  },
  "language_info": {
   "codemirror_mode": {
    "name": "ipython",
    "version": 3
   },
   "file_extension": ".py",
   "mimetype": "text/x-python",
   "name": "python",
   "nbconvert_exporter": "python",
   "pygments_lexer": "ipython3",
   "version": "3.8.5"
  }
 },
 "nbformat": 4,
 "nbformat_minor": 4
}
